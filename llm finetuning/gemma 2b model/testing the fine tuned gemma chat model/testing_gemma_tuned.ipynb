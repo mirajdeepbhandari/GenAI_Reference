{
  "nbformat": 4,
  "nbformat_minor": 0,
  "metadata": {
    "colab": {
      "provenance": []
    },
    "kernelspec": {
      "name": "python3",
      "display_name": "Python 3"
    },
    "language_info": {
      "name": "python"
    },
    "widgets": {
      "application/vnd.jupyter.widget-state+json": {
        "cd03589357f946f9a6bfb4543abd0e1b": {
          "model_module": "@jupyter-widgets/controls",
          "model_name": "HBoxModel",
          "model_module_version": "1.5.0",
          "state": {
            "_dom_classes": [],
            "_model_module": "@jupyter-widgets/controls",
            "_model_module_version": "1.5.0",
            "_model_name": "HBoxModel",
            "_view_count": null,
            "_view_module": "@jupyter-widgets/controls",
            "_view_module_version": "1.5.0",
            "_view_name": "HBoxView",
            "box_style": "",
            "children": [
              "IPY_MODEL_1ab73f62a8b74c67b40c784562f93231",
              "IPY_MODEL_c75e5e662df84b31abc862104d6e5a39",
              "IPY_MODEL_b3fe76104afd440f93abe07ee835b53c"
            ],
            "layout": "IPY_MODEL_6899771660ed492c9d3d029b2ea0be89"
          }
        },
        "1ab73f62a8b74c67b40c784562f93231": {
          "model_module": "@jupyter-widgets/controls",
          "model_name": "HTMLModel",
          "model_module_version": "1.5.0",
          "state": {
            "_dom_classes": [],
            "_model_module": "@jupyter-widgets/controls",
            "_model_module_version": "1.5.0",
            "_model_name": "HTMLModel",
            "_view_count": null,
            "_view_module": "@jupyter-widgets/controls",
            "_view_module_version": "1.5.0",
            "_view_name": "HTMLView",
            "description": "",
            "description_tooltip": null,
            "layout": "IPY_MODEL_1fb9e49efd0a428f8c9a8cafff7c2adf",
            "placeholder": "​",
            "style": "IPY_MODEL_17c5d36c09da41af9a264e06c9010dea",
            "value": "Loading checkpoint shards: 100%"
          }
        },
        "c75e5e662df84b31abc862104d6e5a39": {
          "model_module": "@jupyter-widgets/controls",
          "model_name": "FloatProgressModel",
          "model_module_version": "1.5.0",
          "state": {
            "_dom_classes": [],
            "_model_module": "@jupyter-widgets/controls",
            "_model_module_version": "1.5.0",
            "_model_name": "FloatProgressModel",
            "_view_count": null,
            "_view_module": "@jupyter-widgets/controls",
            "_view_module_version": "1.5.0",
            "_view_name": "ProgressView",
            "bar_style": "success",
            "description": "",
            "description_tooltip": null,
            "layout": "IPY_MODEL_df521ba3bab846afa92a6210deb05a0b",
            "max": 2,
            "min": 0,
            "orientation": "horizontal",
            "style": "IPY_MODEL_3b18ef9a30a24506922a32324b9b2481",
            "value": 2
          }
        },
        "b3fe76104afd440f93abe07ee835b53c": {
          "model_module": "@jupyter-widgets/controls",
          "model_name": "HTMLModel",
          "model_module_version": "1.5.0",
          "state": {
            "_dom_classes": [],
            "_model_module": "@jupyter-widgets/controls",
            "_model_module_version": "1.5.0",
            "_model_name": "HTMLModel",
            "_view_count": null,
            "_view_module": "@jupyter-widgets/controls",
            "_view_module_version": "1.5.0",
            "_view_name": "HTMLView",
            "description": "",
            "description_tooltip": null,
            "layout": "IPY_MODEL_28dc13c4befe4c039be37a4f0de3fd3b",
            "placeholder": "​",
            "style": "IPY_MODEL_f4545f9932ca46b0a6e98be4b632cd50",
            "value": " 2/2 [00:31&lt;00:00, 13.05s/it]"
          }
        },
        "6899771660ed492c9d3d029b2ea0be89": {
          "model_module": "@jupyter-widgets/base",
          "model_name": "LayoutModel",
          "model_module_version": "1.2.0",
          "state": {
            "_model_module": "@jupyter-widgets/base",
            "_model_module_version": "1.2.0",
            "_model_name": "LayoutModel",
            "_view_count": null,
            "_view_module": "@jupyter-widgets/base",
            "_view_module_version": "1.2.0",
            "_view_name": "LayoutView",
            "align_content": null,
            "align_items": null,
            "align_self": null,
            "border": null,
            "bottom": null,
            "display": null,
            "flex": null,
            "flex_flow": null,
            "grid_area": null,
            "grid_auto_columns": null,
            "grid_auto_flow": null,
            "grid_auto_rows": null,
            "grid_column": null,
            "grid_gap": null,
            "grid_row": null,
            "grid_template_areas": null,
            "grid_template_columns": null,
            "grid_template_rows": null,
            "height": null,
            "justify_content": null,
            "justify_items": null,
            "left": null,
            "margin": null,
            "max_height": null,
            "max_width": null,
            "min_height": null,
            "min_width": null,
            "object_fit": null,
            "object_position": null,
            "order": null,
            "overflow": null,
            "overflow_x": null,
            "overflow_y": null,
            "padding": null,
            "right": null,
            "top": null,
            "visibility": null,
            "width": null
          }
        },
        "1fb9e49efd0a428f8c9a8cafff7c2adf": {
          "model_module": "@jupyter-widgets/base",
          "model_name": "LayoutModel",
          "model_module_version": "1.2.0",
          "state": {
            "_model_module": "@jupyter-widgets/base",
            "_model_module_version": "1.2.0",
            "_model_name": "LayoutModel",
            "_view_count": null,
            "_view_module": "@jupyter-widgets/base",
            "_view_module_version": "1.2.0",
            "_view_name": "LayoutView",
            "align_content": null,
            "align_items": null,
            "align_self": null,
            "border": null,
            "bottom": null,
            "display": null,
            "flex": null,
            "flex_flow": null,
            "grid_area": null,
            "grid_auto_columns": null,
            "grid_auto_flow": null,
            "grid_auto_rows": null,
            "grid_column": null,
            "grid_gap": null,
            "grid_row": null,
            "grid_template_areas": null,
            "grid_template_columns": null,
            "grid_template_rows": null,
            "height": null,
            "justify_content": null,
            "justify_items": null,
            "left": null,
            "margin": null,
            "max_height": null,
            "max_width": null,
            "min_height": null,
            "min_width": null,
            "object_fit": null,
            "object_position": null,
            "order": null,
            "overflow": null,
            "overflow_x": null,
            "overflow_y": null,
            "padding": null,
            "right": null,
            "top": null,
            "visibility": null,
            "width": null
          }
        },
        "17c5d36c09da41af9a264e06c9010dea": {
          "model_module": "@jupyter-widgets/controls",
          "model_name": "DescriptionStyleModel",
          "model_module_version": "1.5.0",
          "state": {
            "_model_module": "@jupyter-widgets/controls",
            "_model_module_version": "1.5.0",
            "_model_name": "DescriptionStyleModel",
            "_view_count": null,
            "_view_module": "@jupyter-widgets/base",
            "_view_module_version": "1.2.0",
            "_view_name": "StyleView",
            "description_width": ""
          }
        },
        "df521ba3bab846afa92a6210deb05a0b": {
          "model_module": "@jupyter-widgets/base",
          "model_name": "LayoutModel",
          "model_module_version": "1.2.0",
          "state": {
            "_model_module": "@jupyter-widgets/base",
            "_model_module_version": "1.2.0",
            "_model_name": "LayoutModel",
            "_view_count": null,
            "_view_module": "@jupyter-widgets/base",
            "_view_module_version": "1.2.0",
            "_view_name": "LayoutView",
            "align_content": null,
            "align_items": null,
            "align_self": null,
            "border": null,
            "bottom": null,
            "display": null,
            "flex": null,
            "flex_flow": null,
            "grid_area": null,
            "grid_auto_columns": null,
            "grid_auto_flow": null,
            "grid_auto_rows": null,
            "grid_column": null,
            "grid_gap": null,
            "grid_row": null,
            "grid_template_areas": null,
            "grid_template_columns": null,
            "grid_template_rows": null,
            "height": null,
            "justify_content": null,
            "justify_items": null,
            "left": null,
            "margin": null,
            "max_height": null,
            "max_width": null,
            "min_height": null,
            "min_width": null,
            "object_fit": null,
            "object_position": null,
            "order": null,
            "overflow": null,
            "overflow_x": null,
            "overflow_y": null,
            "padding": null,
            "right": null,
            "top": null,
            "visibility": null,
            "width": null
          }
        },
        "3b18ef9a30a24506922a32324b9b2481": {
          "model_module": "@jupyter-widgets/controls",
          "model_name": "ProgressStyleModel",
          "model_module_version": "1.5.0",
          "state": {
            "_model_module": "@jupyter-widgets/controls",
            "_model_module_version": "1.5.0",
            "_model_name": "ProgressStyleModel",
            "_view_count": null,
            "_view_module": "@jupyter-widgets/base",
            "_view_module_version": "1.2.0",
            "_view_name": "StyleView",
            "bar_color": null,
            "description_width": ""
          }
        },
        "28dc13c4befe4c039be37a4f0de3fd3b": {
          "model_module": "@jupyter-widgets/base",
          "model_name": "LayoutModel",
          "model_module_version": "1.2.0",
          "state": {
            "_model_module": "@jupyter-widgets/base",
            "_model_module_version": "1.2.0",
            "_model_name": "LayoutModel",
            "_view_count": null,
            "_view_module": "@jupyter-widgets/base",
            "_view_module_version": "1.2.0",
            "_view_name": "LayoutView",
            "align_content": null,
            "align_items": null,
            "align_self": null,
            "border": null,
            "bottom": null,
            "display": null,
            "flex": null,
            "flex_flow": null,
            "grid_area": null,
            "grid_auto_columns": null,
            "grid_auto_flow": null,
            "grid_auto_rows": null,
            "grid_column": null,
            "grid_gap": null,
            "grid_row": null,
            "grid_template_areas": null,
            "grid_template_columns": null,
            "grid_template_rows": null,
            "height": null,
            "justify_content": null,
            "justify_items": null,
            "left": null,
            "margin": null,
            "max_height": null,
            "max_width": null,
            "min_height": null,
            "min_width": null,
            "object_fit": null,
            "object_position": null,
            "order": null,
            "overflow": null,
            "overflow_x": null,
            "overflow_y": null,
            "padding": null,
            "right": null,
            "top": null,
            "visibility": null,
            "width": null
          }
        },
        "f4545f9932ca46b0a6e98be4b632cd50": {
          "model_module": "@jupyter-widgets/controls",
          "model_name": "DescriptionStyleModel",
          "model_module_version": "1.5.0",
          "state": {
            "_model_module": "@jupyter-widgets/controls",
            "_model_module_version": "1.5.0",
            "_model_name": "DescriptionStyleModel",
            "_view_count": null,
            "_view_module": "@jupyter-widgets/base",
            "_view_module_version": "1.2.0",
            "_view_name": "StyleView",
            "description_width": ""
          }
        }
      }
    }
  },
  "cells": [
    {
      "cell_type": "code",
      "source": [
        "!pip3 install -q -U accelerate==0.27.1\n",
        "!pip3 install -q -U transformers==4.38.2\n",
        "!pip3 install -q -U bitsandbytes==0.42.0"
      ],
      "metadata": {
        "id": "JfDwakWbHA8M"
      },
      "execution_count": 1,
      "outputs": []
    },
    {
      "cell_type": "markdown",
      "source": [
        "**GPU**"
      ],
      "metadata": {
        "id": "pxefFYiGONX2"
      }
    },
    {
      "cell_type": "code",
      "execution_count": null,
      "metadata": {
        "id": "rYmJMD4yGWdd"
      },
      "outputs": [],
      "source": [
        "\n",
        "from transformers import AutoTokenizer, AutoModelForCausalLM\n",
        "\n",
        "tokenizer = AutoTokenizer.from_pretrained(\"mirajbhandari/gemma_tuned_yungri2\")\n",
        "model = AutoModelForCausalLM.from_pretrained(\"mirajbhandari/gemma_tuned_yungri2\", device_map=\"auto\")\n"
      ]
    },
    {
      "cell_type": "code",
      "source": [
        "# User input question\n",
        "user_question = \"give me contact and email of the yungri?\"\n",
        "\n",
        "# Format user input question\n",
        "formatted_question = f\"<bos><start_of_turn>user\\nQuestion: {user_question}\\n<end_of_turn>\"\n",
        "\n",
        "# Send formatted question to the model for prediction\n",
        "device = \"cuda:0\"\n",
        "\n",
        "inputs = tokenizer.encode(formatted_question , add_special_tokens=False, return_tensors=\"pt\")\n",
        "\n",
        "outputs = model.generate(input_ids=inputs.to(model.device), max_new_tokens=150)\n",
        "conversation=tokenizer.decode(outputs[0],skip_special_tokens=True)\n",
        "\n",
        "turns = conversation.strip().split(\"<end_of_turn>\")\n",
        "\n",
        "# Loop through each turn to find the first response from the model\n",
        "\n",
        "for turn in turns:\n",
        "    if \"model\" in turn:\n",
        "        # Extracting the answer from the model's turn\n",
        "        start_index = turn.find(\"Answer:\") + len(\"Answer:\")\n",
        "        first_response = turn[start_index:].strip()\n",
        "        print(first_response)\n",
        "        break\n"
      ],
      "metadata": {
        "colab": {
          "base_uri": "https://localhost:8080/"
        },
        "id": "0rc3ASvaIPrf",
        "outputId": "b49358ef-6b8c-4524-ee15-bf790dee7665"
      },
      "execution_count": 24,
      "outputs": [
        {
          "output_type": "stream",
          "name": "stdout",
          "text": [
            "yungri contact number is 990099 and email is yungri@gmail.com.\n"
          ]
        }
      ]
    },
    {
      "cell_type": "markdown",
      "source": [
        "**CPU**"
      ],
      "metadata": {
        "id": "g_EFFwjKOTIk"
      }
    },
    {
      "cell_type": "code",
      "source": [
        "from transformers import AutoTokenizer, AutoModelForCausalLM\n",
        "\n",
        "tokenizer = AutoTokenizer.from_pretrained(\"mirajbhandari/gemma_tuned_yungri2\")\n",
        "model = AutoModelForCausalLM.from_pretrained(\"mirajbhandari/gemma_tuned_yungri2\")\n",
        "\n",
        "user_question = \"how can i purchase yunfri tshirt ?\"\n",
        "\n",
        "formatted_question = f\"<bos><start_of_turn>user\\nQuestion: {user_question}\\n<end_of_turn>\"\n",
        "\n",
        "input_ids = tokenizer(formatted_question, return_tensors=\"pt\",add_special_tokens=False)\n",
        "\n",
        "outputs = model.generate(**input_ids,max_new_tokens=150)\n",
        "\n",
        "conversation=tokenizer.decode(outputs[0],skip_special_tokens=True)\n",
        "\n",
        "turns = conversation.strip().split(\"<end_of_turn>\")\n",
        "\n",
        "# Loop through each turn to find the first response from the model\n",
        "\n",
        "for turn in turns:\n",
        "    if \"model\" in turn:\n",
        "        # Extracting the answer from the model's turn\n",
        "        start_index = turn.find(\"Answer:\") + len(\"Answer:\")\n",
        "        first_response = turn[start_index:].strip()\n",
        "        print(first_response)\n",
        "        break\n"
      ],
      "metadata": {
        "colab": {
          "base_uri": "https://localhost:8080/",
          "height": 66,
          "referenced_widgets": [
            "cd03589357f946f9a6bfb4543abd0e1b",
            "1ab73f62a8b74c67b40c784562f93231",
            "c75e5e662df84b31abc862104d6e5a39",
            "b3fe76104afd440f93abe07ee835b53c",
            "6899771660ed492c9d3d029b2ea0be89",
            "1fb9e49efd0a428f8c9a8cafff7c2adf",
            "17c5d36c09da41af9a264e06c9010dea",
            "df521ba3bab846afa92a6210deb05a0b",
            "3b18ef9a30a24506922a32324b9b2481",
            "28dc13c4befe4c039be37a4f0de3fd3b",
            "f4545f9932ca46b0a6e98be4b632cd50"
          ]
        },
        "id": "cKw65zJCJRnV",
        "outputId": "9c8c517e-0fd3-4f15-e970-e9f827566691"
      },
      "execution_count": 1,
      "outputs": [
        {
          "output_type": "display_data",
          "data": {
            "text/plain": [
              "Loading checkpoint shards:   0%|          | 0/2 [00:00<?, ?it/s]"
            ],
            "application/vnd.jupyter.widget-view+json": {
              "version_major": 2,
              "version_minor": 0,
              "model_id": "cd03589357f946f9a6bfb4543abd0e1b"
            }
          },
          "metadata": {}
        },
        {
          "output_type": "stream",
          "name": "stdout",
          "text": [
            "you can purchase yunfri t-shirts through our website www.yunfri.com.\n"
          ]
        }
      ]
    },
    {
      "cell_type": "code",
      "source": [],
      "metadata": {
        "id": "cbIqjw5_PDam"
      },
      "execution_count": null,
      "outputs": []
    }
  ]
}