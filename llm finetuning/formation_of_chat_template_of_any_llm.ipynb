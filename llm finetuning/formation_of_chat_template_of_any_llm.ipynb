{
  "nbformat": 4,
  "nbformat_minor": 0,
  "metadata": {
    "colab": {
      "provenance": []
    },
    "kernelspec": {
      "name": "python3",
      "display_name": "Python 3"
    },
    "language_info": {
      "name": "python"
    }
  },
  "cells": [
    {
      "cell_type": "markdown",
      "source": [
        "**How to get any prompt chat templete for any llm model for fine tuning**"
      ],
      "metadata": {
        "id": "AF6lXaw0WYY9"
      }
    },
    {
      "cell_type": "code",
      "source": [
        "import os\n",
        "from google.colab import userdata\n",
        "os.environ[\"HF_TOKEN\"] = userdata.get('HF_TOKEN')"
      ],
      "metadata": {
        "id": "MkWtIji0ScB1"
      },
      "execution_count": 17,
      "outputs": []
    },
    {
      "cell_type": "code",
      "source": [
        "from transformers import AutoTokenizer\n",
        "tokenizer = AutoTokenizer.from_pretrained(\"google/gemma-2b-it\")\n",
        "\n",
        "chat = [\n",
        "   {\"role\": \"user\", \"content\": \"When was yungri sarted?\"},\n",
        "   {\"role\": \"assistant\", \"content\": \"The t-shirt production and selling company yungri started in 2024.\"},\n",
        "   {\"role\": \"user\", \"content\": \"Where is the Yungri company located?\"},\n",
        "   {\"role\": \"assistant\", \"content\": \"The Yungri company is located in Kavresthali, Kathmandu.\"},\n",
        "   {\"role\": \"user\", \"content\": \"Who are you?\"},\n",
        "]\n",
        "\n",
        "chat=tokenizer.apply_chat_template(chat, tokenize=False)\n",
        "print(chat)"
      ],
      "metadata": {
        "colab": {
          "base_uri": "https://localhost:8080/"
        },
        "id": "k1OTO0qwRv9p",
        "outputId": "de555bb5-a59d-4b90-ebe6-4549a56feb50"
      },
      "execution_count": 18,
      "outputs": [
        {
          "output_type": "stream",
          "name": "stdout",
          "text": [
            "<bos><start_of_turn>user\n",
            "When was yungri sarted?<end_of_turn>\n",
            "<start_of_turn>model\n",
            "The t-shirt production and selling company yungri started in 2024.<end_of_turn>\n",
            "<start_of_turn>user\n",
            "Where is the Yungri company located?<end_of_turn>\n",
            "<start_of_turn>model\n",
            "The Yungri company is located in Kavresthali, Kathmandu.<end_of_turn>\n",
            "<start_of_turn>user\n",
            "Who are you?<end_of_turn>\n",
            "\n"
          ]
        }
      ]
    },
    {
      "cell_type": "code",
      "source": [
        "from transformers import AutoTokenizer\n",
        "tokenizer = AutoTokenizer.from_pretrained(\"meta-llama/Llama-2-7b-chat-hf\")\n",
        "\n",
        "chat = [\n",
        "   {\"role\": \"user\", \"content\": \"Hello, how are you?\"},\n",
        "   {\"role\": \"assistant\", \"content\": \"I'm doing great. How can I help you today?\"},\n",
        "   {\"role\": \"user\", \"content\": \"I'd like to show off how chat templating works!\"},\n",
        "]\n",
        "\n",
        "chat=tokenizer.apply_chat_template(chat, tokenize=False)\n",
        "print(chat)"
      ],
      "metadata": {
        "colab": {
          "base_uri": "https://localhost:8080/"
        },
        "id": "FkSB9yQASNtx",
        "outputId": "51ccc011-91fd-4cea-8695-edc36a1a0b1b"
      },
      "execution_count": 19,
      "outputs": [
        {
          "output_type": "stream",
          "name": "stdout",
          "text": [
            "<s>[INST] Hello, how are you? [/INST] I'm doing great. How can I help you today? </s><s>[INST] I'd like to show off how chat templating works! [/INST]\n"
          ]
        }
      ]
    },
    {
      "cell_type": "code",
      "source": [
        "\n",
        "\n",
        "from transformers import AutoTokenizer\n",
        "tokenizer = AutoTokenizer.from_pretrained(\"mistralai/Mistral-7B-Instruct-v0.2\")\n",
        "\n",
        "\n",
        "chat = [\n",
        "   {\"role\": \"user\", \"content\": \"When was yungri sarted?\"},\n",
        "   {\"role\": \"assistant\", \"content\": \"The t-shirt production and selling company yungri started in 2024.\"},\n",
        "   {\"role\": \"user\", \"content\": \"Where is the Yungri company located?\"},\n",
        "   {\"role\": \"assistant\", \"content\": \"The Yungri company is located in Kavresthali, Kathmandu.\"},\n",
        "   {\"role\": \"user\", \"content\": \"Who are you?\"},\n",
        "]\n",
        "\n",
        "chat=tokenizer.apply_chat_template(chat, tokenize=False)\n",
        "print(chat)"
      ],
      "metadata": {
        "colab": {
          "base_uri": "https://localhost:8080/"
        },
        "id": "UDlwejxITNwa",
        "outputId": "8be50f99-a028-445c-8820-b2f9a4fcf019"
      },
      "execution_count": 20,
      "outputs": [
        {
          "output_type": "stream",
          "name": "stdout",
          "text": [
            "<s>[INST] When was yungri sarted? [/INST]The t-shirt production and selling company yungri started in 2024.</s>[INST] Where is the Yungri company located? [/INST]The Yungri company is located in Kavresthali, Kathmandu.</s>[INST] Who are you? [/INST]\n"
          ]
        }
      ]
    },
    {
      "cell_type": "code",
      "source": [
        "from transformers import AutoTokenizer\n",
        "tokenizer = AutoTokenizer.from_pretrained(\"Falconsai/question_answering\")\n",
        "\n",
        "\n",
        "chat = [\n",
        "   {\"role\": \"user\", \"content\": \"When was yungri sarted?\"},\n",
        "   {\"role\": \"assistant\", \"content\": \"The t-shirt production and selling company yungri started in 2024.\"},\n",
        "   {\"role\": \"user\", \"content\": \"Where is the Yungri company located?\"},\n",
        "   {\"role\": \"assistant\", \"content\": \"The Yungri company is located in Kavresthali, Kathmandu.\"},\n",
        "   {\"role\": \"user\", \"content\": \"Who are you?\"},\n",
        "]\n",
        "\n",
        "chat=tokenizer.apply_chat_template(chat, tokenize=False)\n",
        "print(chat)"
      ],
      "metadata": {
        "colab": {
          "base_uri": "https://localhost:8080/"
        },
        "id": "KqCC_tO3T3tv",
        "outputId": "6c96e44b-6bd9-4e86-e4b4-304e4a3c7b78"
      },
      "execution_count": 21,
      "outputs": [
        {
          "output_type": "stream",
          "name": "stdout",
          "text": [
            "<|im_start|>user\n",
            "When was yungri sarted?<|im_end|>\n",
            "<|im_start|>assistant\n",
            "The t-shirt production and selling company yungri started in 2024.<|im_end|>\n",
            "<|im_start|>user\n",
            "Where is the Yungri company located?<|im_end|>\n",
            "<|im_start|>assistant\n",
            "The Yungri company is located in Kavresthali, Kathmandu.<|im_end|>\n",
            "<|im_start|>user\n",
            "Who are you?<|im_end|>\n",
            "\n"
          ]
        }
      ]
    }
  ]
}