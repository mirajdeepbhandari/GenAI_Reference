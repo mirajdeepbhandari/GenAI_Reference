{
  "cells": [
    {
      "cell_type": "code",
      "execution_count": 3,
      "metadata": {
        "colab": {
          "base_uri": "https://localhost:8080/"
        },
        "id": "oVAJNUAWeq3u",
        "outputId": "3e3e853e-bd57-424e-f945-6c7f0629e5d3"
      },
      "outputs": [
        {
          "name": "stdout",
          "output_type": "stream",
          "text": [
            "\u001b[2K     \u001b[90m━━━━━━━━━━━━━━━━━━━━━━━━━━━━━━━━━━━━━━━━\u001b[0m \u001b[32m105.0/105.0 MB\u001b[0m \u001b[31m8.3 MB/s\u001b[0m eta \u001b[36m0:00:00\u001b[0m\n",
            "\u001b[2K     \u001b[90m━━━━━━━━━━━━━━━━━━━━━━━━━━━━━━━━━━━━━━━━\u001b[0m \u001b[32m183.4/183.4 kB\u001b[0m \u001b[31m1.3 MB/s\u001b[0m eta \u001b[36m0:00:00\u001b[0m\n",
            "\u001b[2K     \u001b[90m━━━━━━━━━━━━━━━━━━━━━━━━━━━━━━━━━━━━━━━━\u001b[0m \u001b[32m280.0/280.0 kB\u001b[0m \u001b[31m6.3 MB/s\u001b[0m eta \u001b[36m0:00:00\u001b[0m\n",
            "\u001b[2K     \u001b[90m━━━━━━━━━━━━━━━━━━━━━━━━━━━━━━━━━━━━━━━━\u001b[0m \u001b[32m150.9/150.9 kB\u001b[0m \u001b[31m1.6 MB/s\u001b[0m eta \u001b[36m0:00:00\u001b[0m\n",
            "\u001b[2K     \u001b[90m━━━━━━━━━━━━━━━━━━━━━━━━━━━━━━━━━━━━━━━━\u001b[0m \u001b[32m510.5/510.5 kB\u001b[0m \u001b[31m10.4 MB/s\u001b[0m eta \u001b[36m0:00:00\u001b[0m\n",
            "\u001b[2K     \u001b[90m━━━━━━━━━━━━━━━━━━━━━━━━━━━━━━━━━━━━━━━━\u001b[0m \u001b[32m79.8/79.8 kB\u001b[0m \u001b[31m7.6 MB/s\u001b[0m eta \u001b[36m0:00:00\u001b[0m\n",
            "\u001b[2K     \u001b[90m━━━━━━━━━━━━━━━━━━━━━━━━━━━━━━━━━━━━━━━━\u001b[0m \u001b[32m116.3/116.3 kB\u001b[0m \u001b[31m6.4 MB/s\u001b[0m eta \u001b[36m0:00:00\u001b[0m\n",
            "\u001b[2K     \u001b[90m━━━━━━━━━━━━━━━━━━━━━━━━━━━━━━━━━━━━━━━━\u001b[0m \u001b[32m134.8/134.8 kB\u001b[0m \u001b[31m14.1 MB/s\u001b[0m eta \u001b[36m0:00:00\u001b[0m\n",
            "\u001b[2K     \u001b[90m━━━━━━━━━━━━━━━━━━━━━━━━━━━━━━━━━━━━━━━━\u001b[0m \u001b[32m279.7/279.7 kB\u001b[0m \u001b[31m2.1 MB/s\u001b[0m eta \u001b[36m0:00:00\u001b[0m\n",
            "\u001b[2K     \u001b[90m━━━━━━━━━━━━━━━━━━━━━━━━━━━━━━━━━━━━━━━━\u001b[0m \u001b[32m536.6/536.6 kB\u001b[0m \u001b[31m4.2 MB/s\u001b[0m eta \u001b[36m0:00:00\u001b[0m\n",
            "\u001b[?25h"
          ]
        }
      ],
      "source": [
        "!pip3 install -q -U bitsandbytes==0.42.0\n",
        "!pip3 install -q -U peft==0.8.2\n",
        "!pip3 install -q -U trl==0.7.10\n",
        "!pip3 install -q -U accelerate==0.27.1\n",
        "!pip3 install -q -U datasets==2.17.0\n",
        "!pip3 install -q -U transformers==4.38.2"
      ]
    },
    {
      "cell_type": "code",
      "execution_count": 9,
      "metadata": {
        "id": "0Qu53wEwe3QG"
      },
      "outputs": [],
      "source": [
        "from peft import PeftModel\n",
        "from transformers import AutoTokenizer, AutoModelForCausalLM\n",
        "from transformers import BitsAndBytesConfig\n",
        "\n",
        "import warnings\n",
        "\n",
        "# Ignore all warnings\n",
        "warnings.filterwarnings(\"ignore\")"
      ]
    },
    {
      "cell_type": "code",
      "execution_count": 7,
      "metadata": {
        "colab": {
          "base_uri": "https://localhost:8080/",
          "height": 66,
          "referenced_widgets": [
            "da325a729d494366bf515202a838b387",
            "3f5634067fa34b37afcdfc4c5e7bd92f",
            "a03f4c8d8c564512a164971d015e5d8d",
            "7af8305a532341bab7a4c5a4a8e859a1",
            "0abbd4a79ee648b7a9d4c25fee18b685",
            "0f7afd095e254f49a79b173456383120",
            "5c76eac2c6204484aeb0a25e8bd02d4e",
            "995e2cf7648c47cd9859c599d641156e",
            "100293faddcb4705b8873114ac79c3d9",
            "e78a7174eaa74cf1994175401fe8fdf3",
            "58aeae915b0f4c4ea48ef7ec4866d465"
          ]
        },
        "id": "lozSypj6n8SL",
        "outputId": "153f3a19-3f7a-4ff1-e0b6-d57e6fd2f321"
      },
      "outputs": [
        {
          "name": "stderr",
          "output_type": "stream",
          "text": [
            "`low_cpu_mem_usage` was None, now set to True since model is quantized.\n"
          ]
        },
        {
          "data": {
            "application/vnd.jupyter.widget-view+json": {
              "model_id": "da325a729d494366bf515202a838b387",
              "version_major": 2,
              "version_minor": 0
            },
            "text/plain": [
              "Loading checkpoint shards:   0%|          | 0/2 [00:00<?, ?it/s]"
            ]
          },
          "metadata": {},
          "output_type": "display_data"
        }
      ],
      "source": [
        "\n",
        "# Load model and tokenizer\n",
        "quantization_config = BitsAndBytesConfig(load_in_8bit_fp32_cpu_offload=True)\n",
        "\n",
        "model = AutoModelForCausalLM.from_pretrained(\"mistralai/Mistral-7B-Instruct-v0.1\", quantization_config=quantization_config)\n",
        "model = PeftModel.from_pretrained(model, \"mirajbhandari/mistral-7b-chat-finetune\", device_map=\"auto\")\n",
        "\n",
        "tokenizer = AutoTokenizer.from_pretrained(\"mirajbhandari/mistral-7b-chat-finetune\")\n"
      ]
    },
    {
      "cell_type": "markdown",
      "metadata": {
        "id": "_E30zWYBrxvG"
      },
      "source": [
        "# Question 1"
      ]
    },
    {
      "cell_type": "code",
      "execution_count": 24,
      "metadata": {
        "colab": {
          "base_uri": "https://localhost:8080/"
        },
        "id": "yktKTVnmnBez",
        "outputId": "922edf1f-d6d3-43b9-fa67-acffa16169cf"
      },
      "outputs": [
        {
          "name": "stderr",
          "output_type": "stream",
          "text": [
            "Setting `pad_token_id` to `eos_token_id`:2 for open-end generation.\n"
          ]
        }
      ],
      "source": [
        "user_question = \"Where is the headquarters of TechVibe located\"\n",
        "\n",
        "que =[{\"role\": \"user\", \"content\": user_question}]\n",
        "\n",
        "# Format user input question\n",
        "formatted_question=tokenizer.apply_chat_template(que, tokenize=False)\n",
        "\n",
        "# Send formatted question to the model for prediction\n",
        "device = \"cuda:0\"\n",
        "inputs = tokenizer(formatted_question, return_tensors=\"pt\").to(device)\n",
        "\n",
        "outputs = model.generate(**inputs, max_new_tokens=20)\n",
        "predicted_output = tokenizer.decode(outputs[0], skip_special_tokens=True)\n",
        "\n",
        "finalans=predicted_output.split(\"[/INST]\")\n",
        "\n",
        "que=finalans[0][6:]\n",
        "ans=finalans[1]"
      ]
    },
    {
      "cell_type": "code",
      "execution_count": 25,
      "metadata": {
        "colab": {
          "base_uri": "https://localhost:8080/"
        },
        "id": "G1Q0_s-vqGYc",
        "outputId": "57be6959-e206-4582-9735-6ffc8ad6d5c5"
      },
      "outputs": [
        {
          "name": "stdout",
          "output_type": "stream",
          "text": [
            "Question: Where is the headquarters of TechVibe located \n",
            "\n",
            "Answer: The headquarters of TechVibe is located in Silicon Valley, California.\n"
          ]
        }
      ],
      "source": [
        "print(f\"Question:{que}\\n\\nAnswer:{ans}\")"
      ]
    },
    {
      "cell_type": "markdown",
      "metadata": {
        "id": "NXvpbkEhr3o5"
      },
      "source": [
        "# Question 2"
      ]
    },
    {
      "cell_type": "code",
      "execution_count": 26,
      "metadata": {
        "colab": {
          "base_uri": "https://localhost:8080/"
        },
        "id": "rSwh-QdCqMFy",
        "outputId": "a3758dc4-8c99-4a66-91b2-0873589f45e7"
      },
      "outputs": [
        {
          "name": "stderr",
          "output_type": "stream",
          "text": [
            "Setting `pad_token_id` to `eos_token_id`:2 for open-end generation.\n"
          ]
        }
      ],
      "source": [
        "user_question = \"What type of mobile devices does TechVibe specialize in manufacturing?\"\n",
        "\n",
        "que =[{\"role\": \"user\", \"content\": user_question}]\n",
        "\n",
        "# Format user input question\n",
        "formatted_question=tokenizer.apply_chat_template(que, tokenize=False)\n",
        "\n",
        "# Send formatted question to the model for prediction\n",
        "device = \"cuda:0\"\n",
        "inputs = tokenizer(formatted_question, return_tensors=\"pt\").to(device)\n",
        "\n",
        "outputs = model.generate(**inputs, max_new_tokens=20)\n",
        "predicted_output = tokenizer.decode(outputs[0], skip_special_tokens=True)\n",
        "\n",
        "finalans=predicted_output.split(\"[/INST]\")\n",
        "\n",
        "que=finalans[0][6:]\n",
        "ans=finalans[1]"
      ]
    },
    {
      "cell_type": "code",
      "execution_count": 27,
      "metadata": {
        "colab": {
          "base_uri": "https://localhost:8080/"
        },
        "id": "xhBhEKOtqaNr",
        "outputId": "1d17f555-0ce6-482b-ad5e-c037760aea67"
      },
      "outputs": [
        {
          "name": "stdout",
          "output_type": "stream",
          "text": [
            "Question: What type of mobile devices does TechVibe specialize in manufacturing? \n",
            "\n",
            "Answer: TechVibe specializes in manufacturing a wide range of mobile devices including smartphones, tablets,\n"
          ]
        }
      ],
      "source": [
        "print(f\"Question:{que}\\n\\nAnswer:{ans}\")"
      ]
    },
    {
      "cell_type": "markdown",
      "metadata": {
        "id": "95rJTdWwr9hi"
      },
      "source": [
        "#  Question 3"
      ]
    },
    {
      "cell_type": "code",
      "execution_count": 34,
      "metadata": {
        "colab": {
          "base_uri": "https://localhost:8080/"
        },
        "id": "abJW88znqkdz",
        "outputId": "a6f66b10-4c4a-4317-ef8c-1ec77214907a"
      },
      "outputs": [
        {
          "name": "stderr",
          "output_type": "stream",
          "text": [
            "Setting `pad_token_id` to `eos_token_id`:2 for open-end generation.\n"
          ]
        }
      ],
      "source": [
        "user_question = \"can i return the smartphone\"\n",
        "\n",
        "que =[{\"role\": \"user\", \"content\": user_question}]\n",
        "\n",
        "# Format user input question\n",
        "formatted_question=tokenizer.apply_chat_template(que, tokenize=False)\n",
        "\n",
        "# Send formatted question to the model for prediction\n",
        "device = \"cuda:0\"\n",
        "inputs = tokenizer(formatted_question, return_tensors=\"pt\").to(device)\n",
        "\n",
        "outputs = model.generate(**inputs, max_new_tokens=70)\n",
        "predicted_output = tokenizer.decode(outputs[0], skip_special_tokens=True)\n",
        "\n",
        "finalans=predicted_output.split(\"[/INST]\")\n",
        "\n",
        "que=finalans[0][6:]\n",
        "ans=finalans[1]"
      ]
    },
    {
      "cell_type": "code",
      "execution_count": 35,
      "metadata": {
        "colab": {
          "base_uri": "https://localhost:8080/"
        },
        "id": "Zr4_-D7rqpQy",
        "outputId": "99a20787-096d-4a12-962d-1d7aee93ec73"
      },
      "outputs": [
        {
          "name": "stdout",
          "output_type": "stream",
          "text": [
            "Question: can i return the smartphone \n",
            "\n",
            "Answer: Yes, you can return the smartphone within the specified return period if you are not satisfied with it. Please refer to the return policy provided with your purchase for details.\n"
          ]
        }
      ],
      "source": [
        "print(f\"Question:{que}\\n\\nAnswer:{ans}\")"
      ]
    },
    {
      "cell_type": "markdown",
      "metadata": {
        "id": "nRW8A9YKsBa_"
      },
      "source": [
        "#  Question 4"
      ]
    },
    {
      "cell_type": "code",
      "execution_count": 36,
      "metadata": {
        "colab": {
          "base_uri": "https://localhost:8080/"
        },
        "id": "U2uEpkXJqt6L",
        "outputId": "2f71ad53-e268-4d09-a61c-3d2c08bd9630"
      },
      "outputs": [
        {
          "name": "stderr",
          "output_type": "stream",
          "text": [
            "Setting `pad_token_id` to `eos_token_id`:2 for open-end generation.\n"
          ]
        }
      ],
      "source": [
        "user_question = \"what are the price range of the smart phones?\"\n",
        "\n",
        "que =[{\"role\": \"user\", \"content\": user_question}]\n",
        "\n",
        "# Format user input question\n",
        "formatted_question=tokenizer.apply_chat_template(que, tokenize=False)\n",
        "\n",
        "# Send formatted question to the model for prediction\n",
        "device = \"cuda:0\"\n",
        "inputs = tokenizer(formatted_question, return_tensors=\"pt\").to(device)\n",
        "\n",
        "outputs = model.generate(**inputs, max_new_tokens=70)\n",
        "predicted_output = tokenizer.decode(outputs[0], skip_special_tokens=True)\n",
        "\n",
        "finalans=predicted_output.split(\"[/INST]\")\n",
        "\n",
        "que=finalans[0][6:]\n",
        "ans=finalans[1]"
      ]
    },
    {
      "cell_type": "code",
      "execution_count": 37,
      "metadata": {
        "colab": {
          "base_uri": "https://localhost:8080/"
        },
        "id": "y6PkoOP3rGRh",
        "outputId": "18a4bc83-3f4e-402a-c665-0350d9bce454"
      },
      "outputs": [
        {
          "name": "stdout",
          "output_type": "stream",
          "text": [
            "Question: what are the price range of the smart phones? \n",
            "\n",
            "Answer: The price range of the smartphones varies depending on the model and specifications. Entry-level smartphones typically cost around $200-$300, while mid-range smartphones can cost between $400-$600. High-end smartphones with advanced features and specifications can cost anywhere between $600\n"
          ]
        }
      ],
      "source": [
        "print(f\"Question:{que}\\n\\nAnswer:{ans}\")"
      ]
    },
    {
      "cell_type": "markdown",
      "metadata": {
        "id": "202EgvGbsFUI"
      },
      "source": [
        "#  Question 5"
      ]
    },
    {
      "cell_type": "code",
      "execution_count": 42,
      "metadata": {
        "colab": {
          "base_uri": "https://localhost:8080/"
        },
        "id": "GkQt2F25rQDV",
        "outputId": "f4c269cc-3931-44cd-f0e0-4ee8c896cc8e"
      },
      "outputs": [
        {
          "name": "stderr",
          "output_type": "stream",
          "text": [
            "Setting `pad_token_id` to `eos_token_id`:2 for open-end generation.\n"
          ]
        }
      ],
      "source": [
        "user_question = \"who are you? who created you?\"\n",
        "\n",
        "que =[{\"role\": \"user\", \"content\": user_question}]\n",
        "\n",
        "# Format user input question\n",
        "formatted_question=tokenizer.apply_chat_template(que, tokenize=False)\n",
        "\n",
        "# Send formatted question to the model for prediction\n",
        "device = \"cuda:0\"\n",
        "inputs = tokenizer(formatted_question, return_tensors=\"pt\").to(device)\n",
        "\n",
        "outputs = model.generate(**inputs, max_new_tokens=70)\n",
        "predicted_output = tokenizer.decode(outputs[0], skip_special_tokens=True)\n",
        "\n",
        "finalans=predicted_output.split(\"[/INST]\")\n",
        "\n",
        "que=finalans[0][6:]\n",
        "ans=finalans[1]"
      ]
    },
    {
      "cell_type": "code",
      "execution_count": 43,
      "metadata": {
        "colab": {
          "base_uri": "https://localhost:8080/"
        },
        "id": "Qgxr5njgraXC",
        "outputId": "c25c1db8-47a3-4294-a0ed-cd1111caf041"
      },
      "outputs": [
        {
          "name": "stdout",
          "output_type": "stream",
          "text": [
            "Question: who are you? who created you? \n",
            "\n",
            "Answer: I am an AI assistant created by a tech company called \"TechVibe\".\n"
          ]
        }
      ],
      "source": [
        "print(f\"Question:{que}\\n\\nAnswer:{ans}\")"
      ]
    }
  ],
  "metadata": {
    "accelerator": "GPU",
    "colab": {
      "gpuType": "T4",
      "provenance": []
    },
    "kernelspec": {
      "display_name": "Python 3",
      "name": "python3"
    },
    "language_info": {
      "name": "python"
    },
    "widgets": {
      "application/vnd.jupyter.widget-state+json": {
        "0abbd4a79ee648b7a9d4c25fee18b685": {
          "model_module": "@jupyter-widgets/base",
          "model_module_version": "1.2.0",
          "model_name": "LayoutModel",
          "state": {
            "_model_module": "@jupyter-widgets/base",
            "_model_module_version": "1.2.0",
            "_model_name": "LayoutModel",
            "_view_count": null,
            "_view_module": "@jupyter-widgets/base",
            "_view_module_version": "1.2.0",
            "_view_name": "LayoutView",
            "align_content": null,
            "align_items": null,
            "align_self": null,
            "border": null,
            "bottom": null,
            "display": null,
            "flex": null,
            "flex_flow": null,
            "grid_area": null,
            "grid_auto_columns": null,
            "grid_auto_flow": null,
            "grid_auto_rows": null,
            "grid_column": null,
            "grid_gap": null,
            "grid_row": null,
            "grid_template_areas": null,
            "grid_template_columns": null,
            "grid_template_rows": null,
            "height": null,
            "justify_content": null,
            "justify_items": null,
            "left": null,
            "margin": null,
            "max_height": null,
            "max_width": null,
            "min_height": null,
            "min_width": null,
            "object_fit": null,
            "object_position": null,
            "order": null,
            "overflow": null,
            "overflow_x": null,
            "overflow_y": null,
            "padding": null,
            "right": null,
            "top": null,
            "visibility": null,
            "width": null
          }
        },
        "0f7afd095e254f49a79b173456383120": {
          "model_module": "@jupyter-widgets/base",
          "model_module_version": "1.2.0",
          "model_name": "LayoutModel",
          "state": {
            "_model_module": "@jupyter-widgets/base",
            "_model_module_version": "1.2.0",
            "_model_name": "LayoutModel",
            "_view_count": null,
            "_view_module": "@jupyter-widgets/base",
            "_view_module_version": "1.2.0",
            "_view_name": "LayoutView",
            "align_content": null,
            "align_items": null,
            "align_self": null,
            "border": null,
            "bottom": null,
            "display": null,
            "flex": null,
            "flex_flow": null,
            "grid_area": null,
            "grid_auto_columns": null,
            "grid_auto_flow": null,
            "grid_auto_rows": null,
            "grid_column": null,
            "grid_gap": null,
            "grid_row": null,
            "grid_template_areas": null,
            "grid_template_columns": null,
            "grid_template_rows": null,
            "height": null,
            "justify_content": null,
            "justify_items": null,
            "left": null,
            "margin": null,
            "max_height": null,
            "max_width": null,
            "min_height": null,
            "min_width": null,
            "object_fit": null,
            "object_position": null,
            "order": null,
            "overflow": null,
            "overflow_x": null,
            "overflow_y": null,
            "padding": null,
            "right": null,
            "top": null,
            "visibility": null,
            "width": null
          }
        },
        "100293faddcb4705b8873114ac79c3d9": {
          "model_module": "@jupyter-widgets/controls",
          "model_module_version": "1.5.0",
          "model_name": "ProgressStyleModel",
          "state": {
            "_model_module": "@jupyter-widgets/controls",
            "_model_module_version": "1.5.0",
            "_model_name": "ProgressStyleModel",
            "_view_count": null,
            "_view_module": "@jupyter-widgets/base",
            "_view_module_version": "1.2.0",
            "_view_name": "StyleView",
            "bar_color": null,
            "description_width": ""
          }
        },
        "3f5634067fa34b37afcdfc4c5e7bd92f": {
          "model_module": "@jupyter-widgets/controls",
          "model_module_version": "1.5.0",
          "model_name": "HTMLModel",
          "state": {
            "_dom_classes": [],
            "_model_module": "@jupyter-widgets/controls",
            "_model_module_version": "1.5.0",
            "_model_name": "HTMLModel",
            "_view_count": null,
            "_view_module": "@jupyter-widgets/controls",
            "_view_module_version": "1.5.0",
            "_view_name": "HTMLView",
            "description": "",
            "description_tooltip": null,
            "layout": "IPY_MODEL_0f7afd095e254f49a79b173456383120",
            "placeholder": "​",
            "style": "IPY_MODEL_5c76eac2c6204484aeb0a25e8bd02d4e",
            "value": "Loading checkpoint shards: 100%"
          }
        },
        "58aeae915b0f4c4ea48ef7ec4866d465": {
          "model_module": "@jupyter-widgets/controls",
          "model_module_version": "1.5.0",
          "model_name": "DescriptionStyleModel",
          "state": {
            "_model_module": "@jupyter-widgets/controls",
            "_model_module_version": "1.5.0",
            "_model_name": "DescriptionStyleModel",
            "_view_count": null,
            "_view_module": "@jupyter-widgets/base",
            "_view_module_version": "1.2.0",
            "_view_name": "StyleView",
            "description_width": ""
          }
        },
        "5c76eac2c6204484aeb0a25e8bd02d4e": {
          "model_module": "@jupyter-widgets/controls",
          "model_module_version": "1.5.0",
          "model_name": "DescriptionStyleModel",
          "state": {
            "_model_module": "@jupyter-widgets/controls",
            "_model_module_version": "1.5.0",
            "_model_name": "DescriptionStyleModel",
            "_view_count": null,
            "_view_module": "@jupyter-widgets/base",
            "_view_module_version": "1.2.0",
            "_view_name": "StyleView",
            "description_width": ""
          }
        },
        "7af8305a532341bab7a4c5a4a8e859a1": {
          "model_module": "@jupyter-widgets/controls",
          "model_module_version": "1.5.0",
          "model_name": "HTMLModel",
          "state": {
            "_dom_classes": [],
            "_model_module": "@jupyter-widgets/controls",
            "_model_module_version": "1.5.0",
            "_model_name": "HTMLModel",
            "_view_count": null,
            "_view_module": "@jupyter-widgets/controls",
            "_view_module_version": "1.5.0",
            "_view_name": "HTMLView",
            "description": "",
            "description_tooltip": null,
            "layout": "IPY_MODEL_e78a7174eaa74cf1994175401fe8fdf3",
            "placeholder": "​",
            "style": "IPY_MODEL_58aeae915b0f4c4ea48ef7ec4866d465",
            "value": " 2/2 [01:24&lt;00:00, 39.88s/it]"
          }
        },
        "995e2cf7648c47cd9859c599d641156e": {
          "model_module": "@jupyter-widgets/base",
          "model_module_version": "1.2.0",
          "model_name": "LayoutModel",
          "state": {
            "_model_module": "@jupyter-widgets/base",
            "_model_module_version": "1.2.0",
            "_model_name": "LayoutModel",
            "_view_count": null,
            "_view_module": "@jupyter-widgets/base",
            "_view_module_version": "1.2.0",
            "_view_name": "LayoutView",
            "align_content": null,
            "align_items": null,
            "align_self": null,
            "border": null,
            "bottom": null,
            "display": null,
            "flex": null,
            "flex_flow": null,
            "grid_area": null,
            "grid_auto_columns": null,
            "grid_auto_flow": null,
            "grid_auto_rows": null,
            "grid_column": null,
            "grid_gap": null,
            "grid_row": null,
            "grid_template_areas": null,
            "grid_template_columns": null,
            "grid_template_rows": null,
            "height": null,
            "justify_content": null,
            "justify_items": null,
            "left": null,
            "margin": null,
            "max_height": null,
            "max_width": null,
            "min_height": null,
            "min_width": null,
            "object_fit": null,
            "object_position": null,
            "order": null,
            "overflow": null,
            "overflow_x": null,
            "overflow_y": null,
            "padding": null,
            "right": null,
            "top": null,
            "visibility": null,
            "width": null
          }
        },
        "a03f4c8d8c564512a164971d015e5d8d": {
          "model_module": "@jupyter-widgets/controls",
          "model_module_version": "1.5.0",
          "model_name": "FloatProgressModel",
          "state": {
            "_dom_classes": [],
            "_model_module": "@jupyter-widgets/controls",
            "_model_module_version": "1.5.0",
            "_model_name": "FloatProgressModel",
            "_view_count": null,
            "_view_module": "@jupyter-widgets/controls",
            "_view_module_version": "1.5.0",
            "_view_name": "ProgressView",
            "bar_style": "success",
            "description": "",
            "description_tooltip": null,
            "layout": "IPY_MODEL_995e2cf7648c47cd9859c599d641156e",
            "max": 2,
            "min": 0,
            "orientation": "horizontal",
            "style": "IPY_MODEL_100293faddcb4705b8873114ac79c3d9",
            "value": 2
          }
        },
        "da325a729d494366bf515202a838b387": {
          "model_module": "@jupyter-widgets/controls",
          "model_module_version": "1.5.0",
          "model_name": "HBoxModel",
          "state": {
            "_dom_classes": [],
            "_model_module": "@jupyter-widgets/controls",
            "_model_module_version": "1.5.0",
            "_model_name": "HBoxModel",
            "_view_count": null,
            "_view_module": "@jupyter-widgets/controls",
            "_view_module_version": "1.5.0",
            "_view_name": "HBoxView",
            "box_style": "",
            "children": [
              "IPY_MODEL_3f5634067fa34b37afcdfc4c5e7bd92f",
              "IPY_MODEL_a03f4c8d8c564512a164971d015e5d8d",
              "IPY_MODEL_7af8305a532341bab7a4c5a4a8e859a1"
            ],
            "layout": "IPY_MODEL_0abbd4a79ee648b7a9d4c25fee18b685"
          }
        },
        "e78a7174eaa74cf1994175401fe8fdf3": {
          "model_module": "@jupyter-widgets/base",
          "model_module_version": "1.2.0",
          "model_name": "LayoutModel",
          "state": {
            "_model_module": "@jupyter-widgets/base",
            "_model_module_version": "1.2.0",
            "_model_name": "LayoutModel",
            "_view_count": null,
            "_view_module": "@jupyter-widgets/base",
            "_view_module_version": "1.2.0",
            "_view_name": "LayoutView",
            "align_content": null,
            "align_items": null,
            "align_self": null,
            "border": null,
            "bottom": null,
            "display": null,
            "flex": null,
            "flex_flow": null,
            "grid_area": null,
            "grid_auto_columns": null,
            "grid_auto_flow": null,
            "grid_auto_rows": null,
            "grid_column": null,
            "grid_gap": null,
            "grid_row": null,
            "grid_template_areas": null,
            "grid_template_columns": null,
            "grid_template_rows": null,
            "height": null,
            "justify_content": null,
            "justify_items": null,
            "left": null,
            "margin": null,
            "max_height": null,
            "max_width": null,
            "min_height": null,
            "min_width": null,
            "object_fit": null,
            "object_position": null,
            "order": null,
            "overflow": null,
            "overflow_x": null,
            "overflow_y": null,
            "padding": null,
            "right": null,
            "top": null,
            "visibility": null,
            "width": null
          }
        }
      }
    }
  },
  "nbformat": 4,
  "nbformat_minor": 0
}
